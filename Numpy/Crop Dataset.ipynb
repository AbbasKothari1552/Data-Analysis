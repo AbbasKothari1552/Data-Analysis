{
 "cells": [
  {
   "cell_type": "code",
   "execution_count": 26,
   "id": "381f2474",
   "metadata": {},
   "outputs": [],
   "source": [
    "import numpy as np"
   ]
  },
  {
   "cell_type": "code",
   "execution_count": 67,
   "id": "6fd2cd3d",
   "metadata": {},
   "outputs": [],
   "source": [
    "crop_data = np.genfromtxt('Datasets/Crop_recommendation.txt', delimiter=',', skip_header=1)"
   ]
  },
  {
   "cell_type": "code",
   "execution_count": 68,
   "id": "a7c89e3b",
   "metadata": {
    "scrolled": false
   },
   "outputs": [
    {
     "data": {
      "text/plain": [
       "array([ 90.        ,  42.        ,  43.        ,  20.87974371,\n",
       "        82.00274423,   6.50298529, 202.9355362 ,          nan])"
      ]
     },
     "execution_count": 68,
     "metadata": {},
     "output_type": "execute_result"
    }
   ],
   "source": [
    "crop_data[0]"
   ]
  },
  {
   "cell_type": "code",
   "execution_count": 69,
   "id": "7e6c6205",
   "metadata": {},
   "outputs": [],
   "source": [
    "# Deleting the columns\n",
    "crop_data = np.delete(crop_data, [0,1,2,5], axis=1)"
   ]
  },
  {
   "cell_type": "code",
   "execution_count": 70,
   "id": "082c8a70",
   "metadata": {
    "scrolled": true
   },
   "outputs": [
    {
     "data": {
      "text/plain": [
       "array([[ 20.87974371,  82.00274423, 202.9355362 ,          nan],\n",
       "       [ 21.77046169,  80.31964408, 226.6555374 ,          nan],\n",
       "       [ 23.00445915,  82.3207629 , 263.9642476 ,          nan],\n",
       "       ...,\n",
       "       [ 24.13179691,  67.22512329, 173.3228386 ,          nan],\n",
       "       [ 26.2724184 ,  52.12739421, 127.1752928 ,          nan],\n",
       "       [ 23.60301571,  60.39647474, 140.9370415 ,          nan]])"
      ]
     },
     "execution_count": 70,
     "metadata": {},
     "output_type": "execute_result"
    }
   ],
   "source": [
    "crop_data"
   ]
  },
  {
   "cell_type": "code",
   "execution_count": 71,
   "id": "e180708c",
   "metadata": {
    "scrolled": true
   },
   "outputs": [
    {
     "data": {
      "text/plain": [
       "array([[False, False, False,  True],\n",
       "       [False, False, False,  True],\n",
       "       [False, False, False,  True],\n",
       "       ...,\n",
       "       [False, False, False,  True],\n",
       "       [False, False, False,  True],\n",
       "       [False, False, False,  True]])"
      ]
     },
     "execution_count": 71,
     "metadata": {},
     "output_type": "execute_result"
    }
   ],
   "source": [
    "np.isnan(crop_data)"
   ]
  },
  {
   "cell_type": "code",
   "execution_count": 73,
   "id": "539ea49b",
   "metadata": {},
   "outputs": [],
   "source": [
    "# Clean nan values\n",
    "crop_data = crop_data[:,~np.isnan(crop_data).any(axis=0)]"
   ]
  },
  {
   "cell_type": "code",
   "execution_count": 75,
   "id": "4fba72ed",
   "metadata": {},
   "outputs": [
    {
     "data": {
      "text/plain": [
       "array([[ 20.87974371,  82.00274423, 202.9355362 ],\n",
       "       [ 21.77046169,  80.31964408, 226.6555374 ],\n",
       "       [ 23.00445915,  82.3207629 , 263.9642476 ],\n",
       "       ...,\n",
       "       [ 24.13179691,  67.22512329, 173.3228386 ],\n",
       "       [ 26.2724184 ,  52.12739421, 127.1752928 ],\n",
       "       [ 23.60301571,  60.39647474, 140.9370415 ]])"
      ]
     },
     "execution_count": 75,
     "metadata": {},
     "output_type": "execute_result"
    }
   ],
   "source": [
    "crop_data"
   ]
  },
  {
   "cell_type": "code",
   "execution_count": 76,
   "id": "0ed74ca4",
   "metadata": {},
   "outputs": [
    {
     "data": {
      "text/plain": [
       "(2200, 3)"
      ]
     },
     "execution_count": 76,
     "metadata": {},
     "output_type": "execute_result"
    }
   ],
   "source": [
    "crop_data.shape"
   ]
  },
  {
   "cell_type": "code",
   "execution_count": 77,
   "id": "49d03dad",
   "metadata": {},
   "outputs": [],
   "source": [
    "weights = np.array([0.3,1.2,.8])"
   ]
  },
  {
   "cell_type": "code",
   "execution_count": 78,
   "id": "86f122b0",
   "metadata": {},
   "outputs": [],
   "source": [
    "yields = np.matmul(crop_data,weights)"
   ]
  },
  {
   "cell_type": "code",
   "execution_count": 79,
   "id": "528a8871",
   "metadata": {},
   "outputs": [
    {
     "data": {
      "text/plain": [
       "array([267.01564515, 284.23914132, 316.8576513 , ..., 226.5679579 ,\n",
       "       172.17483281, 192.3063076 ])"
      ]
     },
     "execution_count": 79,
     "metadata": {},
     "output_type": "execute_result"
    }
   ],
   "source": [
    "yields"
   ]
  },
  {
   "cell_type": "markdown",
   "id": "d81c0f47",
   "metadata": {},
   "source": [
    "## Now we add these `yield` data to the `crop_data` array"
   ]
  },
  {
   "cell_type": "code",
   "execution_count": 80,
   "id": "d51a7ab7",
   "metadata": {},
   "outputs": [
    {
     "data": {
      "text/plain": [
       "(2200,)"
      ]
     },
     "execution_count": 80,
     "metadata": {},
     "output_type": "execute_result"
    }
   ],
   "source": [
    "yields.shape"
   ]
  },
  {
   "cell_type": "code",
   "execution_count": 90,
   "id": "7f448663",
   "metadata": {
    "scrolled": true
   },
   "outputs": [],
   "source": [
    "yields = yields.reshape(2200,1)"
   ]
  },
  {
   "cell_type": "code",
   "execution_count": 91,
   "id": "5d919168",
   "metadata": {},
   "outputs": [
    {
     "data": {
      "text/plain": [
       "(2200, 3)"
      ]
     },
     "execution_count": 91,
     "metadata": {},
     "output_type": "execute_result"
    }
   ],
   "source": [
    "crop_data.shape"
   ]
  },
  {
   "cell_type": "code",
   "execution_count": 92,
   "id": "e3187654",
   "metadata": {},
   "outputs": [
    {
     "data": {
      "text/plain": [
       "(2200, 1)"
      ]
     },
     "execution_count": 92,
     "metadata": {},
     "output_type": "execute_result"
    }
   ],
   "source": [
    "yields.shape"
   ]
  },
  {
   "cell_type": "markdown",
   "id": "4524c283",
   "metadata": {},
   "source": [
    "We have converted the `yields` to 2D array \\n\n",
    "let concatinate `crop_data` with `yields` \\n\n",
    "`axis=1` means concatinate the column. \\n"
   ]
  },
  {
   "cell_type": "code",
   "execution_count": 93,
   "id": "28a331c7",
   "metadata": {},
   "outputs": [],
   "source": [
    "crop_data = np.concatenate((crop_data, yields), axis=1)"
   ]
  },
  {
   "cell_type": "code",
   "execution_count": 94,
   "id": "74a4cf18",
   "metadata": {},
   "outputs": [
    {
     "data": {
      "text/plain": [
       "array([[ 20.87974371,  82.00274423, 202.9355362 , 267.01564515],\n",
       "       [ 21.77046169,  80.31964408, 226.6555374 , 284.23914132],\n",
       "       [ 23.00445915,  82.3207629 , 263.9642476 , 316.8576513 ],\n",
       "       ...,\n",
       "       [ 24.13179691,  67.22512329, 173.3228386 , 226.5679579 ],\n",
       "       [ 26.2724184 ,  52.12739421, 127.1752928 , 172.17483281],\n",
       "       [ 23.60301571,  60.39647474, 140.9370415 , 192.3063076 ]])"
      ]
     },
     "execution_count": 94,
     "metadata": {},
     "output_type": "execute_result"
    }
   ],
   "source": [
    "crop_data"
   ]
  },
  {
   "cell_type": "markdown",
   "id": "fd1aea3e",
   "metadata": {},
   "source": [
    "## Let save the `crop_data` in a `apple_yield.txt` file"
   ]
  },
  {
   "cell_type": "code",
   "execution_count": 96,
   "id": "1d3dbf51",
   "metadata": {},
   "outputs": [],
   "source": [
    "np.savetxt('Datasets/apple_yield.txt',\n",
    "           crop_data,\n",
    "          fmt = '%.2f',\n",
    "          header = 'temperature,humidity,rainfall,apple_yield',\n",
    "          comments = '')"
   ]
  },
  {
   "cell_type": "code",
   "execution_count": null,
   "id": "96de57f2",
   "metadata": {},
   "outputs": [],
   "source": []
  }
 ],
 "metadata": {
  "kernelspec": {
   "display_name": "Python 3 (ipykernel)",
   "language": "python",
   "name": "python3"
  },
  "language_info": {
   "codemirror_mode": {
    "name": "ipython",
    "version": 3
   },
   "file_extension": ".py",
   "mimetype": "text/x-python",
   "name": "python",
   "nbconvert_exporter": "python",
   "pygments_lexer": "ipython3",
   "version": "3.11.5"
  }
 },
 "nbformat": 4,
 "nbformat_minor": 5
}
