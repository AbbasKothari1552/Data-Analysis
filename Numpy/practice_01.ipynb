{
 "cells": [
  {
   "cell_type": "markdown",
   "id": "cb79d3c5",
   "metadata": {},
   "source": [
    "# Dot product using numpy."
   ]
  },
  {
   "cell_type": "code",
   "execution_count": 1,
   "id": "983b7f86",
   "metadata": {},
   "outputs": [],
   "source": [
    "import numpy as np"
   ]
  },
  {
   "cell_type": "code",
   "execution_count": 2,
   "id": "b0beeda3",
   "metadata": {},
   "outputs": [],
   "source": [
    "x = [73,56,81]\n",
    "weights = [0.3,1.2,0.8]"
   ]
  },
  {
   "cell_type": "code",
   "execution_count": 3,
   "id": "33e3e5f3",
   "metadata": {},
   "outputs": [
    {
     "data": {
      "text/plain": [
       "64.8"
      ]
     },
     "execution_count": 3,
     "metadata": {},
     "output_type": "execute_result"
    }
   ],
   "source": [
    "for x, w in zip(x, weights):\n",
    "    result = 0\n",
    "    result += x * w\n",
    "result"
   ]
  },
  {
   "cell_type": "code",
   "execution_count": null,
   "id": "76b36d30",
   "metadata": {},
   "outputs": [],
   "source": [
    "# Now using dot product function\n",
    "help(np.dot)"
   ]
  },
  {
   "cell_type": "code",
   "execution_count": 4,
   "id": "e159279a",
   "metadata": {},
   "outputs": [
    {
     "data": {
      "text/plain": [
       "array([24.3, 97.2, 64.8])"
      ]
     },
     "execution_count": 4,
     "metadata": {},
     "output_type": "execute_result"
    }
   ],
   "source": [
    "x = np.array(x)\n",
    "weights = np.array(weights)\n",
    "result = np.dot(x ,weights)\n",
    "result"
   ]
  },
  {
   "cell_type": "markdown",
   "id": "2a80cd5d",
   "metadata": {},
   "source": [
    "## Benifits of numpy"
   ]
  },
  {
   "cell_type": "code",
   "execution_count": 20,
   "id": "fa16953d",
   "metadata": {},
   "outputs": [],
   "source": [
    "values = list(range(1000000))\n",
    "weights = list(range(1000000,2000000))"
   ]
  },
  {
   "cell_type": "code",
   "execution_count": 21,
   "id": "8b73d4fe",
   "metadata": {},
   "outputs": [
    {
     "name": "stdout",
     "output_type": "stream",
     "text": [
      "CPU times: total: 125 ms\n",
      "Wall time: 325 ms\n"
     ]
    },
    {
     "data": {
      "text/plain": [
       "1999997000001"
      ]
     },
     "execution_count": 21,
     "metadata": {},
     "output_type": "execute_result"
    }
   ],
   "source": [
    "%%time\n",
    "for x, y in zip(values, weights):\n",
    "    result = 0\n",
    "    result += x * y\n",
    "result"
   ]
  },
  {
   "cell_type": "code",
   "execution_count": 22,
   "id": "0143471d",
   "metadata": {},
   "outputs": [],
   "source": [
    "np_arr1 = np.array(values, dtype=np.int64)\n",
    "np_arr2 = np.array(weights, dtype=np.int64)"
   ]
  },
  {
   "cell_type": "code",
   "execution_count": 23,
   "id": "2b937b59",
   "metadata": {},
   "outputs": [
    {
     "data": {
      "text/plain": [
       "dtype('int64')"
      ]
     },
     "execution_count": 23,
     "metadata": {},
     "output_type": "execute_result"
    }
   ],
   "source": [
    "np.dtype(np_arr2[0])"
   ]
  },
  {
   "cell_type": "code",
   "execution_count": 24,
   "id": "d177ec8d",
   "metadata": {},
   "outputs": [
    {
     "name": "stdout",
     "output_type": "stream",
     "text": [
      "CPU times: total: 0 ns\n",
      "Wall time: 0 ns\n"
     ]
    },
    {
     "data": {
      "text/plain": [
       "833332333333500000"
      ]
     },
     "execution_count": 24,
     "metadata": {},
     "output_type": "execute_result"
    }
   ],
   "source": [
    "%%time\n",
    "np.dot(np_arr1, np_arr2)"
   ]
  },
  {
   "cell_type": "markdown",
   "id": "2ffc24d4",
   "metadata": {},
   "source": [
    "## 2D Arrays"
   ]
  },
  {
   "cell_type": "code",
   "execution_count": 38,
   "id": "ccbf8fb2",
   "metadata": {},
   "outputs": [],
   "source": [
    "climate = np.array([[1,2,3],[4,5,6],[7,8,9]], dtype = np.int64)\n",
    "weights = np.array([0.3,1.2,0.8], dtype=np.float64)"
   ]
  },
  {
   "cell_type": "code",
   "execution_count": 39,
   "id": "d26cdcc0",
   "metadata": {},
   "outputs": [
    {
     "data": {
      "text/plain": [
       "array([[1, 2, 3],\n",
       "       [4, 5, 6],\n",
       "       [7, 8, 9]], dtype=int64)"
      ]
     },
     "execution_count": 39,
     "metadata": {},
     "output_type": "execute_result"
    }
   ],
   "source": [
    "climate"
   ]
  },
  {
   "cell_type": "code",
   "execution_count": 40,
   "id": "f81ec9b9",
   "metadata": {},
   "outputs": [
    {
     "data": {
      "text/plain": [
       "dtype('int64')"
      ]
     },
     "execution_count": 40,
     "metadata": {},
     "output_type": "execute_result"
    }
   ],
   "source": [
    "climate.dtype"
   ]
  },
  {
   "cell_type": "code",
   "execution_count": 41,
   "id": "c539ffcd",
   "metadata": {},
   "outputs": [
    {
     "data": {
      "text/plain": [
       "36.0"
      ]
     },
     "execution_count": 41,
     "metadata": {},
     "output_type": "execute_result"
    }
   ],
   "source": [
    "result = 0\n",
    "for x in climate:\n",
    "    result += np.dot(x,weights)\n",
    "result"
   ]
  },
  {
   "cell_type": "code",
   "execution_count": 47,
   "id": "f62c4eb9",
   "metadata": {},
   "outputs": [
    {
     "data": {
      "text/plain": [
       "[5.1, 12.0, 18.9]"
      ]
     },
     "execution_count": 47,
     "metadata": {},
     "output_type": "execute_result"
    }
   ],
   "source": [
    "result = []\n",
    "for cl in climate:\n",
    "    individual = 0\n",
    "    for x, w in zip(cl, weights):\n",
    "        individual += x * w\n",
    "    result.append(individual)\n",
    "result"
   ]
  },
  {
   "cell_type": "markdown",
   "id": "7fa6400b",
   "metadata": {},
   "source": [
    "## Matrics Multiplication  \n",
    "### np.matmul()"
   ]
  },
  {
   "cell_type": "code",
   "execution_count": 43,
   "id": "f89b179f",
   "metadata": {},
   "outputs": [
    {
     "data": {
      "text/plain": [
       "array([[1, 2, 3],\n",
       "       [4, 5, 6],\n",
       "       [7, 8, 9]], dtype=int64)"
      ]
     },
     "execution_count": 43,
     "metadata": {},
     "output_type": "execute_result"
    }
   ],
   "source": [
    "climate"
   ]
  },
  {
   "cell_type": "code",
   "execution_count": 44,
   "id": "75c806fe",
   "metadata": {},
   "outputs": [
    {
     "data": {
      "text/plain": [
       "array([0.3, 1.2, 0.8])"
      ]
     },
     "execution_count": 44,
     "metadata": {},
     "output_type": "execute_result"
    }
   ],
   "source": [
    "weights"
   ]
  },
  {
   "cell_type": "code",
   "execution_count": 45,
   "id": "864f68db",
   "metadata": {},
   "outputs": [
    {
     "data": {
      "text/plain": [
       "array([ 5.1, 12. , 18.9])"
      ]
     },
     "execution_count": 45,
     "metadata": {},
     "output_type": "execute_result"
    }
   ],
   "source": [
    "np.matmul(climate,weights)"
   ]
  },
  {
   "cell_type": "code",
   "execution_count": 48,
   "id": "863cbdc9",
   "metadata": {},
   "outputs": [
    {
     "data": {
      "text/plain": [
       "array([ 5.1, 12. , 18.9])"
      ]
     },
     "execution_count": 48,
     "metadata": {},
     "output_type": "execute_result"
    }
   ],
   "source": [
    "climate @ weights"
   ]
  },
  {
   "cell_type": "code",
   "execution_count": null,
   "id": "e10116b7",
   "metadata": {},
   "outputs": [],
   "source": []
  }
 ],
 "metadata": {
  "kernelspec": {
   "display_name": "Python 3 (ipykernel)",
   "language": "python",
   "name": "python3"
  },
  "language_info": {
   "codemirror_mode": {
    "name": "ipython",
    "version": 3
   },
   "file_extension": ".py",
   "mimetype": "text/x-python",
   "name": "python",
   "nbconvert_exporter": "python",
   "pygments_lexer": "ipython3",
   "version": "3.11.5"
  }
 },
 "nbformat": 4,
 "nbformat_minor": 5
}
